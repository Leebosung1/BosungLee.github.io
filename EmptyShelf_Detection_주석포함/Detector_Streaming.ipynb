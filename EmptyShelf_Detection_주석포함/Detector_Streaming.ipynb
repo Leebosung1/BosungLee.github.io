{
 "cells": [
  {
   "cell_type": "code",
   "execution_count": 1,
   "metadata": {},
   "outputs": [
    {
     "name": "stdout",
     "output_type": "stream",
     "text": [
      "Last updated: 2021-06-10\n",
      "\n",
      "numpy     : 1.19.5\n",
      "matplotlib: 3.3.4\n",
      "tensorflow: 2.4.1\n",
      "sklearn   : 0.24.2\n",
      "\n"
     ]
    }
   ],
   "source": [
    "%load_ext watermark\n",
    "%watermark -u -d -p numpy,matplotlib,tensorflow,sklearn"
   ]
  },
  {
   "cell_type": "code",
   "execution_count": 2,
   "metadata": {},
   "outputs": [],
   "source": [
    "import os\n",
    "import cv2\n",
    "import time\n",
    "import numpy as np\n",
    "import imutils\n",
    "\n",
    "from imutils.video import VideoStream\n",
    "from tensorflow.keras.models import load_model"
   ]
  },
  {
   "cell_type": "code",
   "execution_count": 3,
   "metadata": {},
   "outputs": [],
   "source": [
    "# 학습된 모델을 읽어 온다\n",
    "EmptyNet = load_model(\"empty_v2_K-Fold.model\")"
   ]
  },
  {
   "cell_type": "code",
   "execution_count": 4,
   "metadata": {},
   "outputs": [],
   "source": [
    "# 스트리밍 영상을 받아 분류를 하기 위한 데이터로 변환한다 (Gray 변환 및 Resizing 처리)\n",
    "# 이미 학습되어 있는 예측함수로 선반이 비었는지, 재고가 있는지를 예측하고 확율을 반환한다\n",
    "\n",
    "def detect_and_predict_Empty(frame, EmptyNet):\n",
    "    \n",
    "    img = cv2.cvtColor(frame, cv2.COLOR_BGR2GRAY)\n",
    "    # img = cv2.cvtColor(frame, cv2.IMREAD_GRAYSCALE)\n",
    "    new_img = cv2.resize(img,(70,70))\n",
    "    ex = np.array(new_img).reshape(-1,70,70,1)\n",
    "    ex = ex / 255.0\n",
    "    \n",
    "    pred = EmptyNet.predict(ex)\n",
    "    \n",
    "    return pred"
   ]
  },
  {
   "cell_type": "code",
   "execution_count": 16,
   "metadata": {},
   "outputs": [],
   "source": [
    "# video stream을 초기화하고 camera sensor가 warm up할 수 있도록 기다려준다\n",
    "vs = VideoStream(src=0).start()\n",
    "time.sleep(2.0)"
   ]
  },
  {
   "cell_type": "code",
   "execution_count": 17,
   "metadata": {},
   "outputs": [],
   "source": [
    "# video stream을 받아 예측 결과를 기반으로 선반이 비어있는지, 재고가 있는지 모니터링 한다\n",
    "\n",
    "while True:\n",
    "    # 비디오 스트리밍을 읽어 드리고, 화면에 표시할 크기(여기선 400 pixel)만큼 조정해 준다\n",
    "    frame = vs.read()\n",
    "    frame = cv2.flip(frame,1,1) # 거울처럼 영상이 보이도록 화면을 flip해 준다\n",
    "    frame = imutils.resize(frame, width=400)\n",
    "\n",
    "    # 예측 함수를 호출한다\n",
    "    preds = detect_and_predict_Empty(frame, EmptyNet)\n",
    "    \n",
    "    # 예측 결과 확율을 기반으로 선반이 비어있는지 재고가 있는지 구분한다 (여기선 50%를 기준으로 삼았다)\n",
    "    label = \"Non-Empty\" if preds > 0.5 else \"Empty\"\n",
    "    color = (0, 0, 255) if label == \"Empty\" else (0, 255, 0)\n",
    "    \n",
    "    # 확율과 label을 화면에 표기해 준다\n",
    "    # label = f\"{label}: {preds * 100}%\"\n",
    "    label = \"{}: {:.2f}%\".format(label, float(preds) * 100)\n",
    "    cv2.putText(frame, label, (200, 150), cv2.FONT_HERSHEY_SIMPLEX, 0.6, color, 2)\n",
    "\n",
    "    # 스트리밍 영상을 실제로 화면에 보여준다\n",
    "    cv2.imshow(\"Frame\", frame)\n",
    "    \n",
    "    key = cv2.waitKey(1) & 0xFF\n",
    "    # q키를 누르면 while loop를 빠져나간다\n",
    "    if key == ord(\"q\"):\n",
    "        break\n",
    "\n",
    "cv2.destroyAllWindows()\n",
    "vs.stop()"
   ]
  },
  {
   "cell_type": "code",
   "execution_count": null,
   "metadata": {},
   "outputs": [],
   "source": []
  }
 ],
 "metadata": {
  "kernelspec": {
   "display_name": "Python 3",
   "language": "python",
   "name": "python3"
  },
  "language_info": {
   "codemirror_mode": {
    "name": "ipython",
    "version": 3
   },
   "file_extension": ".py",
   "mimetype": "text/x-python",
   "name": "python",
   "nbconvert_exporter": "python",
   "pygments_lexer": "ipython3",
   "version": "3.8.10"
  }
 },
 "nbformat": 4,
 "nbformat_minor": 4
}
